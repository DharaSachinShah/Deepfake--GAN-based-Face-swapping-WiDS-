{
 "cells": [
  {
   "cell_type": "code",
   "execution_count": 47,
   "id": "e1b3c92a",
   "metadata": {},
   "outputs": [
    {
     "name": "stdout",
     "output_type": "stream",
     "text": [
      "tensor([[[ 2.3934e-42,  0.0000e+00,  1.1210e-44,  0.0000e+00],\n",
      "         [-2.9198e+10,  5.5912e-43, -2.9198e+10,  5.5912e-43],\n",
      "         [-5.5100e-18,  5.5912e-43,  0.0000e+00,  0.0000e+00]],\n",
      "\n",
      "        [[-5.5098e-18,  5.5912e-43,  2.3934e-42,  0.0000e+00],\n",
      "         [ 0.0000e+00,  0.0000e+00, -4.1646e-18,  5.5912e-43],\n",
      "         [ 2.3934e-42,  0.0000e+00, -3.2404e+10,  5.5912e-43]]])\n"
     ]
    }
   ],
   "source": [
    "import torch\n",
    "x=torch.empty(2,3,4)\n",
    "print(x)"
   ]
  },
  {
   "cell_type": "code",
   "execution_count": 48,
   "id": "c2c05cae",
   "metadata": {},
   "outputs": [
    {
     "name": "stdout",
     "output_type": "stream",
     "text": [
      "tensor([1.0078e+00, 0.0000e+00, 8.9683e-44])\n"
     ]
    }
   ],
   "source": [
    "c=torch.empty(3)\n",
    "print(c)"
   ]
  },
  {
   "cell_type": "code",
   "execution_count": 49,
   "id": "f9152b67",
   "metadata": {},
   "outputs": [
    {
     "name": "stdout",
     "output_type": "stream",
     "text": [
      "tensor([0.2799, 0.2594, 0.8777])\n"
     ]
    }
   ],
   "source": [
    "x = torch.rand(3)\n",
    "print(x)"
   ]
  },
  {
   "cell_type": "code",
   "execution_count": 50,
   "id": "0286e38b",
   "metadata": {},
   "outputs": [
    {
     "name": "stdout",
     "output_type": "stream",
     "text": [
      "tensor([[0.2553, 0.0279, 0.5449],\n",
      "        [0.9595, 0.8933, 0.7663]])\n"
     ]
    }
   ],
   "source": [
    "print(torch.rand(2,3))"
   ]
  },
  {
   "cell_type": "code",
   "execution_count": 51,
   "id": "55c0f722",
   "metadata": {},
   "outputs": [
    {
     "name": "stdout",
     "output_type": "stream",
     "text": [
      "tensor([[0., 0., 0., 0.],\n",
      "        [0., 0., 0., 0.],\n",
      "        [0., 0., 0., 0.],\n",
      "        [0., 0., 0., 0.]])\n"
     ]
    }
   ],
   "source": [
    "print(torch.zeros(4,4))"
   ]
  },
  {
   "cell_type": "code",
   "execution_count": 52,
   "id": "a73ee703",
   "metadata": {},
   "outputs": [
    {
     "name": "stdout",
     "output_type": "stream",
     "text": [
      "tensor([[1., 1.],\n",
      "        [1., 1.]])\n"
     ]
    }
   ],
   "source": [
    "print(torch.ones(2,2))"
   ]
  },
  {
   "cell_type": "code",
   "execution_count": 53,
   "id": "d6c49555",
   "metadata": {},
   "outputs": [
    {
     "name": "stdout",
     "output_type": "stream",
     "text": [
      "torch.float32\n",
      "torch.int32\n",
      "torch.int64\n",
      "torch.Size([3, 3])\n"
     ]
    }
   ],
   "source": [
    "x=torch.ones(3,3)\n",
    "print(torch.ones(3,3).dtype)\n",
    "print(torch.ones(3,3,dtype=torch.int).dtype)\n",
    "print(torch.ones(3,3,dtype=int).dtype)\n",
    "print(x.size())"
   ]
  },
  {
   "cell_type": "code",
   "execution_count": 54,
   "id": "6ba731de",
   "metadata": {},
   "outputs": [
    {
     "name": "stdout",
     "output_type": "stream",
     "text": [
      "tensor([1.5000, 2.5000, 3.5000])\n"
     ]
    }
   ],
   "source": [
    "x=torch.tensor([1.5,2.5,3.5])\n",
    "print(x)"
   ]
  },
  {
   "cell_type": "code",
   "execution_count": 55,
   "id": "6e819bbe",
   "metadata": {},
   "outputs": [
    {
     "name": "stdout",
     "output_type": "stream",
     "text": [
      "tensor([[0.1094, 0.9850],\n",
      "        [0.0834, 0.0759]]) tensor([[0.6941, 0.4725],\n",
      "        [0.9357, 0.1885]])\n",
      "tensor([[0.8035, 1.4574],\n",
      "        [1.0192, 0.2643]])\n",
      "tensor([[0.8035, 1.4574],\n",
      "        [1.0192, 0.2643]])\n",
      "tensor([[0.0879, 1.4355],\n",
      "        [0.0850, 0.0201]])\n",
      "tensor([[0.0879, 1.4355],\n",
      "        [0.0850, 0.0201]])\n",
      "tensor([[0.0879, 1.4355],\n",
      "        [0.0850, 0.0201]])\n",
      "tensor([[ 0.0215, -0.4506],\n",
      "        [-0.0016,  0.0558]])\n"
     ]
    }
   ],
   "source": [
    "x=torch.rand(2,2)\n",
    "y=torch.rand(2,2)\n",
    "print(x,y)\n",
    "print(torch.add(x,y))\n",
    "print(y.add_(x))\n",
    "print(x*y)\n",
    "print(torch.mul(x,y))\n",
    "print(y.mul_(x))\n",
    "print(x-y)"
   ]
  },
  {
   "cell_type": "code",
   "execution_count": 56,
   "id": "347a42b8",
   "metadata": {},
   "outputs": [
    {
     "name": "stdout",
     "output_type": "stream",
     "text": [
      "tensor([[0.8036, 0.8619, 0.4639],\n",
      "        [0.3657, 0.1318, 0.4954],\n",
      "        [0.3498, 0.4657, 0.4271]]) tensor(0.1318)\n",
      "tensor(0.1318)\n",
      "tensor([[0.8619, 0.4639],\n",
      "        [0.1318, 0.4954],\n",
      "        [0.4657, 0.4271]])\n",
      "tensor([[0.8036],\n",
      "        [0.3657],\n",
      "        [0.3498]])\n",
      "tensor([[0.8619, 0.4639],\n",
      "        [0.1318, 0.4954]])\n",
      "0.13181179761886597\n"
     ]
    }
   ],
   "source": [
    "x=torch.rand(3,3)\n",
    "print(x,x[1][1])\n",
    "print(x[1,1])\n",
    "print(x[:,1:])\n",
    "print(x[:,:1])\n",
    "print(x[0:2,1:3])\n",
    "print(x[1,1].item()) #exact value"
   ]
  },
  {
   "cell_type": "code",
   "execution_count": 57,
   "id": "4117ccc0",
   "metadata": {},
   "outputs": [
    {
     "name": "stdout",
     "output_type": "stream",
     "text": [
      "tensor([[0.0611, 0.9250, 0.5628, 0.0593],\n",
      "        [0.4462, 0.3236, 0.6351, 0.7923],\n",
      "        [0.4098, 0.0287, 0.3355, 0.7233],\n",
      "        [0.1666, 0.5209, 0.2663, 0.7204]])\n",
      "tensor([0.0611, 0.9250, 0.5628, 0.0593, 0.4462, 0.3236, 0.6351, 0.7923, 0.4098,\n",
      "        0.0287, 0.3355, 0.7233, 0.1666, 0.5209, 0.2663, 0.7204])\n",
      "tensor([[0.0611, 0.9250, 0.5628, 0.0593, 0.4462, 0.3236, 0.6351, 0.7923],\n",
      "        [0.4098, 0.0287, 0.3355, 0.7233, 0.1666, 0.5209, 0.2663, 0.7204]])\n",
      "torch.Size([2, 8])\n",
      "tensor([[0.0611, 0.9250, 0.5628, 0.0593],\n",
      "        [0.4462, 1.0000, 0.6351, 0.7923],\n",
      "        [0.4098, 0.0287, 0.3355, 0.7233],\n",
      "        [0.1666, 0.5209, 0.2663, 0.7204]])\n"
     ]
    }
   ],
   "source": [
    "x=torch.rand(4,4)\n",
    "print(x)\n",
    "y=x.view(16)\n",
    "print(y)\n",
    "y=x.view(-1,8)\n",
    "print(y)\n",
    "print(y.size())\n",
    "x[1][1]=1\n",
    "print(x)"
   ]
  },
  {
   "cell_type": "code",
   "execution_count": 58,
   "id": "d5cd5558",
   "metadata": {},
   "outputs": [
    {
     "name": "stdout",
     "output_type": "stream",
     "text": [
      "tensor([[1., 1.],\n",
      "        [1., 1.]])\n",
      "<class 'torch.Tensor'>\n",
      "[[1. 1.]\n",
      " [1. 1.]]\n",
      "<class 'numpy.ndarray'>\n",
      "tensor([[2., 2.],\n",
      "        [2., 2.]]) [[2. 2.]\n",
      " [2. 2.]]\n",
      "[1. 1.] tensor([1., 1.], dtype=torch.float64)\n"
     ]
    }
   ],
   "source": [
    "import numpy as np\n",
    "a=torch.ones(2,2)\n",
    "print(a)\n",
    "print(type(a))\n",
    "b=a.numpy() #to get a numpy array\n",
    "print(b)\n",
    "print(type(b))\n",
    "a.add_(1)\n",
    "print(a,b) #a,b share the same memory location so both changes\n",
    "\n",
    "c=np.ones(2)\n",
    "d=torch.from_numpy(c)\n",
    "print(c,d)"
   ]
  },
  {
   "cell_type": "code",
   "execution_count": 59,
   "id": "66fee390",
   "metadata": {},
   "outputs": [
    {
     "name": "stdout",
     "output_type": "stream",
     "text": [
      "tensor([0.7219, 0.9133, 0.4423], requires_grad=True)\n",
      "tensor([2.7219, 2.9133, 2.4423], grad_fn=<AddBackward0>)\n",
      "tensor([14.8177, 16.9742, 11.9294], grad_fn=<MulBackward0>)\n",
      "tensor(14.5737, grad_fn=<MeanBackward0>)\n",
      "tensor([3.6292, 3.8843, 3.2564])\n"
     ]
    }
   ],
   "source": [
    "#Gradient Calculation using Autograd\n",
    "import torch\n",
    "x=torch.rand(3,requires_grad=True)\n",
    "print(x)\n",
    "y=x+2\n",
    "print(y)\n",
    "z=y*y*2\n",
    "print(z)\n",
    "z=z.mean()\n",
    "print(z)\n",
    "\n",
    "z.backward() #dz/dx\n",
    "print(x.grad)"
   ]
  },
  {
   "cell_type": "code",
   "execution_count": 60,
   "id": "ca86df87",
   "metadata": {},
   "outputs": [
    {
     "name": "stdout",
     "output_type": "stream",
     "text": [
      "tensor([0.6275, 0.4710, 0.1540], requires_grad=True)\n",
      "tensor([0.6275, 0.4710, 0.1540])\n",
      "tensor([0.6275, 0.4710, 0.1540])\n",
      "tensor([0.6275, 0.4710, 0.1540])\n"
     ]
    }
   ],
   "source": [
    "#x.requires_grad_(False)\n",
    "#x.detach()\n",
    "#with torch.no_grad():\n",
    "import torch\n",
    "x=torch.rand(3,requires_grad=True)\n",
    "print(x)\n",
    "x.requires_grad_(False)\n",
    "print(x)\n",
    "y=x.detach()\n",
    "print(y)\n",
    "with torch.no_grad():\n",
    "    y=x+2\n",
    "    print(x)"
   ]
  },
  {
   "cell_type": "code",
   "execution_count": 61,
   "id": "375f9060",
   "metadata": {},
   "outputs": [
    {
     "name": "stdout",
     "output_type": "stream",
     "text": [
      "tensor([3., 3., 3.])\n",
      "tensor([6., 6., 6.])\n",
      "tensor([9., 9., 9.])\n",
      "tensor([12., 12., 12.])\n",
      "tensor([3., 3., 3.])\n",
      "tensor([3., 3., 3.])\n"
     ]
    }
   ],
   "source": [
    "weights=torch.ones(3,requires_grad=True)\n",
    "for _ in range(3):\n",
    "    model_output=(weights*3).sum()\n",
    "    model_output.backward()\n",
    "    print(weights.grad)#Since in every iteration previous' iterations value is used so not incorrectgradient is obtained\n",
    "    #weights.grad.zero_()  use this for correct gradient\n",
    "for _ in range(3):\n",
    "    model_output=(weights*3).sum()\n",
    "    model_output.backward()\n",
    "    print(weights.grad)\n",
    "    weights.grad.zero_()"
   ]
  },
  {
   "cell_type": "markdown",
   "id": "bc59142d",
   "metadata": {},
   "source": [
    "# Basic backpropogation"
   ]
  },
  {
   "cell_type": "code",
   "execution_count": 62,
   "id": "fbb77dbb",
   "metadata": {},
   "outputs": [
    {
     "name": "stdout",
     "output_type": "stream",
     "text": [
      "tensor(-2.)\n",
      "tensor([ 0.2927, -0.8339, -1.0596])\n"
     ]
    }
   ],
   "source": [
    "x=torch.tensor(1.0)\n",
    "w=torch.tensor(1.0,requires_grad=True)\n",
    "y_hat=x*w\n",
    "y=torch.tensor(2.0)\n",
    "\n",
    "loss=(y_hat-y)**2\n",
    "loss.backward()\n",
    "print(w.grad)\n",
    "\n",
    "\n",
    "x=torch.rand(3)\n",
    "w=torch.rand(3,requires_grad=True)\n",
    "y_hat=x*w\n",
    "y=torch.rand(3)\n",
    "\n",
    "loss=(y_hat-y)**2\n",
    "v=torch.tensor([1,2,3])\n",
    "loss.backward(v)\n",
    "print(w.grad)"
   ]
  },
  {
   "cell_type": "markdown",
   "id": "bc2dfeb4",
   "metadata": {},
   "source": [
    "# Prediction using Numpy"
   ]
  },
  {
   "cell_type": "code",
   "execution_count": 63,
   "id": "364f3de4",
   "metadata": {},
   "outputs": [
    {
     "name": "stdout",
     "output_type": "stream",
     "text": [
      "0.0\n",
      "1.2 30.0\n",
      "1.6799999618530272 4.799999\n",
      "1.871999988555908 0.7680002\n",
      "1.9487999868392942 0.12288\n",
      "1.9795200133323667 0.019660834\n",
      "1.9918080282211301 0.0031457357\n",
      "1.9967231869697568 0.000503308\n",
      "1.99868928194046 8.053186e-05\n",
      "1.999475698471069 1.2884395e-05\n",
      "1.999790253639221 2.0613531e-06\n",
      "9.998951268196105\n"
     ]
    }
   ],
   "source": [
    "import numpy as np\n",
    "\n",
    "x=np.array([1,2,3,4],dtype=np.float32)\n",
    "y=np.array([2,4,6,8],dtype=np.float32)\n",
    "\n",
    "w=0.0\n",
    "def forward(x):\n",
    "    return w*x\n",
    "\n",
    "def loss(y,y_predicted):\n",
    "    return ((y_predicted-y)**2).mean()\n",
    "\n",
    "#loss=1/N(wx-y)^2\n",
    "#dloss/dw=2x/N(wx-y)\n",
    "def gradient(x,y,y_predicted):\n",
    "    return np.dot(2*x,(y_predicted-y)).mean()\n",
    "\n",
    "print(forward(5))\n",
    "\n",
    "learning_rate=0.01\n",
    "\n",
    "for _ in range(10):\n",
    "    y_pred=forward(x)\n",
    "    l=loss(y,y_pred)\n",
    "    grad=gradient(x,y,y_pred)\n",
    "    w-= (learning_rate*grad)\n",
    "    if _%1==0:\n",
    "        print(w,l)\n",
    "    \n",
    "print(forward(5))"
   ]
  },
  {
   "cell_type": "markdown",
   "id": "38e92d79",
   "metadata": {},
   "source": [
    "# Prediction using Torch"
   ]
  },
  {
   "cell_type": "code",
   "execution_count": 64,
   "id": "1d9c2a0c",
   "metadata": {},
   "outputs": [
    {
     "name": "stdout",
     "output_type": "stream",
     "text": [
      "tensor(0., grad_fn=<MulBackward0>)\n",
      "tensor(0.3000, requires_grad=True) tensor(30., grad_fn=<MeanBackward0>)\n",
      "tensor(0.5550, requires_grad=True) tensor(21.6750, grad_fn=<MeanBackward0>)\n",
      "tensor(0.7717, requires_grad=True) tensor(15.6602, grad_fn=<MeanBackward0>)\n",
      "tensor(0.9560, requires_grad=True) tensor(11.3145, grad_fn=<MeanBackward0>)\n",
      "tensor(1.1126, requires_grad=True) tensor(8.1747, grad_fn=<MeanBackward0>)\n",
      "tensor(1.2457, requires_grad=True) tensor(5.9062, grad_fn=<MeanBackward0>)\n",
      "tensor(1.3588, requires_grad=True) tensor(4.2673, grad_fn=<MeanBackward0>)\n",
      "tensor(1.4550, requires_grad=True) tensor(3.0831, grad_fn=<MeanBackward0>)\n",
      "tensor(1.5368, requires_grad=True) tensor(2.2275, grad_fn=<MeanBackward0>)\n",
      "tensor(1.6063, requires_grad=True) tensor(1.6094, grad_fn=<MeanBackward0>)\n",
      "tensor(1.6653, requires_grad=True) tensor(1.1628, grad_fn=<MeanBackward0>)\n",
      "tensor(1.7155, requires_grad=True) tensor(0.8401, grad_fn=<MeanBackward0>)\n",
      "tensor(1.7582, requires_grad=True) tensor(0.6070, grad_fn=<MeanBackward0>)\n",
      "tensor(1.7945, requires_grad=True) tensor(0.4385, grad_fn=<MeanBackward0>)\n",
      "tensor(1.8253, requires_grad=True) tensor(0.3168, grad_fn=<MeanBackward0>)\n",
      "tensor(1.8515, requires_grad=True) tensor(0.2289, grad_fn=<MeanBackward0>)\n",
      "tensor(1.8738, requires_grad=True) tensor(0.1654, grad_fn=<MeanBackward0>)\n",
      "tensor(1.8927, requires_grad=True) tensor(0.1195, grad_fn=<MeanBackward0>)\n",
      "tensor(1.9088, requires_grad=True) tensor(0.0863, grad_fn=<MeanBackward0>)\n",
      "tensor(1.9225, requires_grad=True) tensor(0.0624, grad_fn=<MeanBackward0>)\n",
      "tensor(1.9341, requires_grad=True) tensor(0.0451, grad_fn=<MeanBackward0>)\n",
      "tensor(1.9440, requires_grad=True) tensor(0.0326, grad_fn=<MeanBackward0>)\n",
      "tensor(1.9524, requires_grad=True) tensor(0.0235, grad_fn=<MeanBackward0>)\n",
      "tensor(1.9595, requires_grad=True) tensor(0.0170, grad_fn=<MeanBackward0>)\n",
      "tensor(1.9656, requires_grad=True) tensor(0.0123, grad_fn=<MeanBackward0>)\n",
      "tensor(1.9708, requires_grad=True) tensor(0.0089, grad_fn=<MeanBackward0>)\n",
      "tensor(1.9751, requires_grad=True) tensor(0.0064, grad_fn=<MeanBackward0>)\n",
      "tensor(1.9789, requires_grad=True) tensor(0.0046, grad_fn=<MeanBackward0>)\n",
      "tensor(1.9820, requires_grad=True) tensor(0.0033, grad_fn=<MeanBackward0>)\n",
      "tensor(1.9847, requires_grad=True) tensor(0.0024, grad_fn=<MeanBackward0>)\n",
      "tensor(1.9870, requires_grad=True) tensor(0.0017, grad_fn=<MeanBackward0>)\n",
      "tensor(1.9890, requires_grad=True) tensor(0.0013, grad_fn=<MeanBackward0>)\n",
      "tensor(1.9906, requires_grad=True) tensor(0.0009, grad_fn=<MeanBackward0>)\n",
      "tensor(1.9920, requires_grad=True) tensor(0.0007, grad_fn=<MeanBackward0>)\n",
      "tensor(1.9932, requires_grad=True) tensor(0.0005, grad_fn=<MeanBackward0>)\n",
      "tensor(1.9942, requires_grad=True) tensor(0.0003, grad_fn=<MeanBackward0>)\n",
      "tensor(1.9951, requires_grad=True) tensor(0.0002, grad_fn=<MeanBackward0>)\n",
      "tensor(1.9958, requires_grad=True) tensor(0.0002, grad_fn=<MeanBackward0>)\n",
      "tensor(1.9965, requires_grad=True) tensor(0.0001, grad_fn=<MeanBackward0>)\n",
      "tensor(1.9970, requires_grad=True) tensor(9.3711e-05, grad_fn=<MeanBackward0>)\n",
      "tensor(1.9974, requires_grad=True) tensor(6.7705e-05, grad_fn=<MeanBackward0>)\n",
      "tensor(1.9978, requires_grad=True) tensor(4.8915e-05, grad_fn=<MeanBackward0>)\n",
      "tensor(1.9982, requires_grad=True) tensor(3.5344e-05, grad_fn=<MeanBackward0>)\n",
      "tensor(1.9984, requires_grad=True) tensor(2.5533e-05, grad_fn=<MeanBackward0>)\n",
      "tensor(1.9987, requires_grad=True) tensor(1.8447e-05, grad_fn=<MeanBackward0>)\n",
      "tensor(1.9989, requires_grad=True) tensor(1.3329e-05, grad_fn=<MeanBackward0>)\n",
      "tensor(1.9990, requires_grad=True) tensor(9.6315e-06, grad_fn=<MeanBackward0>)\n",
      "tensor(1.9992, requires_grad=True) tensor(6.9583e-06, grad_fn=<MeanBackward0>)\n",
      "tensor(1.9993, requires_grad=True) tensor(5.0274e-06, grad_fn=<MeanBackward0>)\n",
      "tensor(1.9994, requires_grad=True) tensor(3.6323e-06, grad_fn=<MeanBackward0>)\n",
      "tensor(1.9995, requires_grad=True) tensor(2.6244e-06, grad_fn=<MeanBackward0>)\n",
      "tensor(1.9996, requires_grad=True) tensor(1.8964e-06, grad_fn=<MeanBackward0>)\n",
      "tensor(1.9996, requires_grad=True) tensor(1.3699e-06, grad_fn=<MeanBackward0>)\n",
      "tensor(1.9997, requires_grad=True) tensor(9.8946e-07, grad_fn=<MeanBackward0>)\n",
      "tensor(1.9997, requires_grad=True) tensor(7.1485e-07, grad_fn=<MeanBackward0>)\n",
      "tensor(1.9998, requires_grad=True) tensor(5.1689e-07, grad_fn=<MeanBackward0>)\n",
      "tensor(1.9998, requires_grad=True) tensor(3.7350e-07, grad_fn=<MeanBackward0>)\n",
      "tensor(1.9998, requires_grad=True) tensor(2.6975e-07, grad_fn=<MeanBackward0>)\n",
      "tensor(1.9999, requires_grad=True) tensor(1.9482e-07, grad_fn=<MeanBackward0>)\n",
      "tensor(1.9999, requires_grad=True) tensor(1.4073e-07, grad_fn=<MeanBackward0>)\n",
      "tensor(1.9999, requires_grad=True) tensor(1.0176e-07, grad_fn=<MeanBackward0>)\n",
      "tensor(1.9999, requires_grad=True) tensor(7.3389e-08, grad_fn=<MeanBackward0>)\n",
      "tensor(1.9999, requires_grad=True) tensor(5.3154e-08, grad_fn=<MeanBackward0>)\n",
      "tensor(1.9999, requires_grad=True) tensor(3.8369e-08, grad_fn=<MeanBackward0>)\n",
      "tensor(1.9999, requires_grad=True) tensor(2.7700e-08, grad_fn=<MeanBackward0>)\n",
      "tensor(2.0000, requires_grad=True) tensor(2.0094e-08, grad_fn=<MeanBackward0>)\n",
      "tensor(2.0000, requires_grad=True) tensor(1.4520e-08, grad_fn=<MeanBackward0>)\n",
      "tensor(2.0000, requires_grad=True) tensor(1.0522e-08, grad_fn=<MeanBackward0>)\n",
      "tensor(2.0000, requires_grad=True) tensor(7.5924e-09, grad_fn=<MeanBackward0>)\n",
      "tensor(2.0000, requires_grad=True) tensor(5.4872e-09, grad_fn=<MeanBackward0>)\n",
      "tensor(2.0000, requires_grad=True) tensor(3.9742e-09, grad_fn=<MeanBackward0>)\n",
      "tensor(2.0000, requires_grad=True) tensor(2.8666e-09, grad_fn=<MeanBackward0>)\n",
      "tensor(2.0000, requires_grad=True) tensor(2.0563e-09, grad_fn=<MeanBackward0>)\n",
      "tensor(2.0000, requires_grad=True) tensor(1.4790e-09, grad_fn=<MeanBackward0>)\n",
      "tensor(2.0000, requires_grad=True) tensor(1.0658e-09, grad_fn=<MeanBackward0>)\n",
      "tensor(2.0000, requires_grad=True) tensor(7.7187e-10, grad_fn=<MeanBackward0>)\n",
      "tensor(2.0000, requires_grad=True) tensor(5.5252e-10, grad_fn=<MeanBackward0>)\n",
      "tensor(2.0000, requires_grad=True) tensor(3.9789e-10, grad_fn=<MeanBackward0>)\n",
      "tensor(2.0000, requires_grad=True) tensor(2.8820e-10, grad_fn=<MeanBackward0>)\n",
      "tensor(2.0000, requires_grad=True) tensor(2.0634e-10, grad_fn=<MeanBackward0>)\n",
      "tensor(2.0000, requires_grad=True) tensor(1.4670e-10, grad_fn=<MeanBackward0>)\n",
      "tensor(2.0000, requires_grad=True) tensor(1.0177e-10, grad_fn=<MeanBackward0>)\n",
      "tensor(2.0000, requires_grad=True) tensor(7.3172e-11, grad_fn=<MeanBackward0>)\n",
      "tensor(2.0000, requires_grad=True) tensor(5.0662e-11, grad_fn=<MeanBackward0>)\n",
      "tensor(2.0000, requires_grad=True) tensor(3.8074e-11, grad_fn=<MeanBackward0>)\n",
      "tensor(2.0000, requires_grad=True) tensor(2.7285e-11, grad_fn=<MeanBackward0>)\n",
      "tensor(2.0000, requires_grad=True) tensor(2.0307e-11, grad_fn=<MeanBackward0>)\n",
      "tensor(2.0000, requires_grad=True) tensor(1.5348e-11, grad_fn=<MeanBackward0>)\n",
      "tensor(2.0000, requires_grad=True) tensor(1.1099e-11, grad_fn=<MeanBackward0>)\n",
      "tensor(2.0000, requires_grad=True) tensor(6.8212e-12, grad_fn=<MeanBackward0>)\n",
      "tensor(2.0000, requires_grad=True) tensor(5.0768e-12, grad_fn=<MeanBackward0>)\n",
      "tensor(2.0000, requires_grad=True) tensor(3.5953e-12, grad_fn=<MeanBackward0>)\n",
      "tensor(2.0000, requires_grad=True) tensor(2.7747e-12, grad_fn=<MeanBackward0>)\n",
      "tensor(2.0000, requires_grad=True) tensor(1.7053e-12, grad_fn=<MeanBackward0>)\n",
      "tensor(2.0000, requires_grad=True) tensor(8.9884e-13, grad_fn=<MeanBackward0>)\n",
      "tensor(2.0000, requires_grad=True) tensor(8.9884e-13, grad_fn=<MeanBackward0>)\n",
      "tensor(2.0000, requires_grad=True) tensor(8.9884e-13, grad_fn=<MeanBackward0>)\n",
      "tensor(2.0000, requires_grad=True) tensor(8.9884e-13, grad_fn=<MeanBackward0>)\n",
      "tensor(2.0000, requires_grad=True) tensor(8.9884e-13, grad_fn=<MeanBackward0>)\n",
      "tensor(2.0000, requires_grad=True) tensor(8.9884e-13, grad_fn=<MeanBackward0>)\n",
      "tensor(10.0000, grad_fn=<MulBackward0>)\n"
     ]
    }
   ],
   "source": [
    "import torch\n",
    "\n",
    "x=torch.tensor([1,2,3,4],dtype=torch.float32)\n",
    "y=torch.tensor([2,4,6,8],dtype=torch.float32)\n",
    "\n",
    "w=torch.tensor(0.0,dtype=torch.float32,requires_grad=True)\n",
    "\n",
    "def forward(x):\n",
    "    return w*x\n",
    "\n",
    "def loss(y,y_predicted):\n",
    "    return ((y_predicted-y)**2).mean()\n",
    "\n",
    "print(forward(5))\n",
    "\n",
    "learning_rate=0.01\n",
    "\n",
    "for _ in range(100):\n",
    "    y_pred=forward(x)\n",
    "    l=loss(y,y_pred)\n",
    "    l.backward()\n",
    "    with torch.no_grad():\n",
    "        w-= (learning_rate*w.grad)\n",
    "    \n",
    "    w.grad.zero_()\n",
    "    if _%1==0:\n",
    "        print(w,l)\n",
    "    \n",
    "print(forward(5))"
   ]
  },
  {
   "cell_type": "markdown",
   "id": "39b9b124",
   "metadata": {},
   "source": [
    "# including optimization"
   ]
  },
  {
   "cell_type": "code",
   "execution_count": 65,
   "id": "59bd03ae",
   "metadata": {},
   "outputs": [
    {
     "name": "stdout",
     "output_type": "stream",
     "text": [
      "4 1\n",
      "3.750857353210449\n",
      "2.7003226280212402 tensor(12.1974, grad_fn=<MseLossBackward0>)\n",
      "1.9968336820602417 tensor(1.5381e-05, grad_fn=<MseLossBackward0>)\n",
      "1.999848484992981 tensor(3.5214e-08, grad_fn=<MseLossBackward0>)\n",
      "1.999992847442627 tensor(8.0945e-11, grad_fn=<MseLossBackward0>)\n",
      "1.9999996423721313 tensor(2.4158e-13, grad_fn=<MseLossBackward0>)\n",
      "2.0 tensor(0., grad_fn=<MseLossBackward0>)\n",
      "2.0 tensor(0., grad_fn=<MseLossBackward0>)\n",
      "2.0 tensor(0., grad_fn=<MseLossBackward0>)\n",
      "2.0 tensor(0., grad_fn=<MseLossBackward0>)\n",
      "2.0 tensor(0., grad_fn=<MseLossBackward0>)\n",
      "10.0\n"
     ]
    }
   ],
   "source": [
    "import torch\n",
    "import torch.nn as nn #module for neural networks\n",
    "\n",
    "x=torch.tensor([[1],[2],[3],[4]],dtype=torch.float32)\n",
    "y=torch.tensor([[2],[4],[6],[8]],dtype=torch.float32)\n",
    "x_test=torch.tensor([5],dtype=torch.float32)\n",
    "\n",
    "n_samples,n_features=x.shape\n",
    "print(n_samples,n_features)\n",
    "input_size=n_features\n",
    "output_size=n_features\n",
    "\n",
    "model=nn.Linear(input_size,output_size)\n",
    "print(model(x_test).item())\n",
    "\n",
    "learning_rate=0.1\n",
    "loss=nn.MSELoss()\n",
    "optimizer=torch.optim.SGD(model.parameters(),lr=learning_rate)\n",
    "\n",
    "for _ in range(1000):\n",
    "    y_pred=model(x)\n",
    "    l=loss(y,y_pred)\n",
    "    l.backward()\n",
    "    optimizer.step()\n",
    "    optimizer.zero_grad()\n",
    "    if _%100==0:\n",
    "        [w,b]=model.parameters()\n",
    "        print(w[0][0].item(),l)\n",
    "    \n",
    "print(model(x_test).item())"
   ]
  },
  {
   "cell_type": "markdown",
   "id": "9308d111",
   "metadata": {},
   "source": [
    "# Linear Regression"
   ]
  },
  {
   "cell_type": "code",
   "execution_count": 66,
   "id": "1298ac58",
   "metadata": {},
   "outputs": [],
   "source": [
    "import torch\n",
    "import torch.nn as nn\n",
    "import numpy as np\n",
    "from sklearn import datasets\n",
    "import matplotlib.pyplot as plt\n",
    "\n",
    "#0) prepare data\n",
    "x_numpy,y_numpy=datasets.make_regression(n_samples=100,n_features=1,noise=20,random_state=1)\n",
    "x=torch.from_numpy(x_numpy.astype(np.float32))\n",
    "y=torch.from_numpy(y_numpy.astype(np.float32))"
   ]
  },
  {
   "cell_type": "code",
   "execution_count": 70,
   "id": "2ed626cb",
   "metadata": {},
   "outputs": [],
   "source": [
    "# Importing the libraries\n",
    "import numpy as np\n",
    "import matplotlib.pyplot as plt\n",
    "import pandas as pd"
   ]
  },
  {
   "cell_type": "code",
   "execution_count": 74,
   "id": "097daa3b",
   "metadata": {},
   "outputs": [
    {
     "data": {
      "text/html": [
       "<div>\n",
       "<style scoped>\n",
       "    .dataframe tbody tr th:only-of-type {\n",
       "        vertical-align: middle;\n",
       "    }\n",
       "\n",
       "    .dataframe tbody tr th {\n",
       "        vertical-align: top;\n",
       "    }\n",
       "\n",
       "    .dataframe thead th {\n",
       "        text-align: right;\n",
       "    }\n",
       "</style>\n",
       "<table border=\"1\" class=\"dataframe\">\n",
       "  <thead>\n",
       "    <tr style=\"text-align: right;\">\n",
       "      <th></th>\n",
       "      <th>Id</th>\n",
       "      <th>SepalLengthCm</th>\n",
       "      <th>SepalWidthCm</th>\n",
       "      <th>PetalLengthCm</th>\n",
       "      <th>PetalWidthCm</th>\n",
       "    </tr>\n",
       "  </thead>\n",
       "  <tbody>\n",
       "    <tr>\n",
       "      <th>count</th>\n",
       "      <td>150.000000</td>\n",
       "      <td>150.000000</td>\n",
       "      <td>150.000000</td>\n",
       "      <td>150.000000</td>\n",
       "      <td>150.000000</td>\n",
       "    </tr>\n",
       "    <tr>\n",
       "      <th>mean</th>\n",
       "      <td>75.500000</td>\n",
       "      <td>5.843333</td>\n",
       "      <td>3.054000</td>\n",
       "      <td>3.758667</td>\n",
       "      <td>1.198667</td>\n",
       "    </tr>\n",
       "    <tr>\n",
       "      <th>std</th>\n",
       "      <td>43.445368</td>\n",
       "      <td>0.828066</td>\n",
       "      <td>0.433594</td>\n",
       "      <td>1.764420</td>\n",
       "      <td>0.763161</td>\n",
       "    </tr>\n",
       "    <tr>\n",
       "      <th>min</th>\n",
       "      <td>1.000000</td>\n",
       "      <td>4.300000</td>\n",
       "      <td>2.000000</td>\n",
       "      <td>1.000000</td>\n",
       "      <td>0.100000</td>\n",
       "    </tr>\n",
       "    <tr>\n",
       "      <th>25%</th>\n",
       "      <td>38.250000</td>\n",
       "      <td>5.100000</td>\n",
       "      <td>2.800000</td>\n",
       "      <td>1.600000</td>\n",
       "      <td>0.300000</td>\n",
       "    </tr>\n",
       "    <tr>\n",
       "      <th>50%</th>\n",
       "      <td>75.500000</td>\n",
       "      <td>5.800000</td>\n",
       "      <td>3.000000</td>\n",
       "      <td>4.350000</td>\n",
       "      <td>1.300000</td>\n",
       "    </tr>\n",
       "    <tr>\n",
       "      <th>75%</th>\n",
       "      <td>112.750000</td>\n",
       "      <td>6.400000</td>\n",
       "      <td>3.300000</td>\n",
       "      <td>5.100000</td>\n",
       "      <td>1.800000</td>\n",
       "    </tr>\n",
       "    <tr>\n",
       "      <th>max</th>\n",
       "      <td>150.000000</td>\n",
       "      <td>7.900000</td>\n",
       "      <td>4.400000</td>\n",
       "      <td>6.900000</td>\n",
       "      <td>2.500000</td>\n",
       "    </tr>\n",
       "  </tbody>\n",
       "</table>\n",
       "</div>"
      ],
      "text/plain": [
       "               Id  SepalLengthCm  SepalWidthCm  PetalLengthCm  PetalWidthCm\n",
       "count  150.000000     150.000000    150.000000     150.000000    150.000000\n",
       "mean    75.500000       5.843333      3.054000       3.758667      1.198667\n",
       "std     43.445368       0.828066      0.433594       1.764420      0.763161\n",
       "min      1.000000       4.300000      2.000000       1.000000      0.100000\n",
       "25%     38.250000       5.100000      2.800000       1.600000      0.300000\n",
       "50%     75.500000       5.800000      3.000000       4.350000      1.300000\n",
       "75%    112.750000       6.400000      3.300000       5.100000      1.800000\n",
       "max    150.000000       7.900000      4.400000       6.900000      2.500000"
      ]
     },
     "execution_count": 74,
     "metadata": {},
     "output_type": "execute_result"
    }
   ],
   "source": [
    "# Importing the dataset\n",
    "dataset = pd.read_csv('iris.csv')\n",
    "dataset.describe()"
   ]
  },
  {
   "cell_type": "code",
   "execution_count": 75,
   "id": "599da302",
   "metadata": {},
   "outputs": [],
   "source": [
    "# Splitting the dataset into the Training set and Test set\n",
    "X = dataset.iloc[:, [0,1,2, 3]].values\n",
    "y = dataset.iloc[:, 4].values\n",
    "from sklearn.model_selection import train_test_split\n",
    "X_train, X_test, y_train, y_test = train_test_split(X, y, test_size = 0.25, random_state = 0)"
   ]
  },
  {
   "cell_type": "code",
   "execution_count": 76,
   "id": "257eda14",
   "metadata": {},
   "outputs": [],
   "source": [
    "from sklearn.preprocessing import StandardScaler\n",
    "sc = StandardScaler()\n",
    "X_train = sc.fit_transform(X_train)\n",
    "X_test = sc.transform(X_test)"
   ]
  },
  {
   "cell_type": "code",
   "execution_count": 79,
   "id": "71fc9f33",
   "metadata": {},
   "outputs": [
    {
     "data": {
      "text/plain": [
       "LogisticRegression(random_state=0)"
      ]
     },
     "execution_count": 79,
     "metadata": {},
     "output_type": "execute_result"
    }
   ],
   "source": [
    "# Fitting Logistic Regression to the Training set\n",
    "from sklearn.linear_model import LogisticRegression\n",
    "classifier = LogisticRegression(random_state = 0, solver='lbfgs', multi_class='auto')\n",
    "classifier.fit(X_train, y_train)"
   ]
  },
  {
   "cell_type": "code",
   "execution_count": 78,
   "id": "42b34c66",
   "metadata": {},
   "outputs": [],
   "source": [
    "from sklearn.preprocessing import LabelEncoder\n",
    "\n",
    "# Assuming binary classification\n",
    "label_encoder = LabelEncoder()\n",
    "y_train = label_encoder.fit_transform(y_train)\n"
   ]
  },
  {
   "cell_type": "code",
   "execution_count": 80,
   "id": "4c0fc854",
   "metadata": {},
   "outputs": [],
   "source": [
    "# Splitting the dataset into the Training set and Test set\n",
    "X = dataset.iloc[:, [0,1,2, 3]].values\n",
    "y = dataset.iloc[:, 4].values"
   ]
  },
  {
   "cell_type": "code",
   "execution_count": 81,
   "id": "836040f0",
   "metadata": {},
   "outputs": [],
   "source": [
    "from sklearn.model_selection import train_test_split\n",
    "X_train, X_test, y_train, y_test = train_test_split(X, y, test_size = 0.25, random_state = 0)"
   ]
  },
  {
   "cell_type": "code",
   "execution_count": 82,
   "id": "9809881e",
   "metadata": {},
   "outputs": [],
   "source": [
    "from sklearn.preprocessing import StandardScaler\n",
    "sc = StandardScaler()\n",
    "X_train = sc.fit_transform(X_train)\n",
    "X_test = sc.transform(X_test)"
   ]
  },
  {
   "cell_type": "code",
   "execution_count": 84,
   "id": "f2e49ea9",
   "metadata": {},
   "outputs": [],
   "source": [
    "from sklearn.preprocessing import LabelEncoder\n",
    "\n",
    "# Assuming binary classification\n",
    "label_encoder = LabelEncoder()\n",
    "y_train = label_encoder.fit_transform(y_train)\n"
   ]
  },
  {
   "cell_type": "code",
   "execution_count": 85,
   "id": "47abedcc",
   "metadata": {},
   "outputs": [
    {
     "data": {
      "text/plain": [
       "LogisticRegression(random_state=0)"
      ]
     },
     "execution_count": 85,
     "metadata": {},
     "output_type": "execute_result"
    }
   ],
   "source": [
    "# Fitting Logistic Regression to the Training set\n",
    "from sklearn.linear_model import LogisticRegression\n",
    "classifier = LogisticRegression(random_state = 0, solver='lbfgs', multi_class='auto')\n",
    "classifier.fit(X_train, y_train)"
   ]
  },
  {
   "cell_type": "code",
   "execution_count": 86,
   "id": "7c90d1ca",
   "metadata": {},
   "outputs": [
    {
     "name": "stdout",
     "output_type": "stream",
     "text": [
      "y_test     | y_pred     | Setosa(%)  | versicolor(%) | virginica(%)\n",
      "-----------------------------------------------------------------\n",
      "2.4        | 14         | 0.0        | 0.01          | 0.0       \n",
      "1.0        | 9          | 0.01       | 0.01          | 0.01      \n",
      "0.2        | 1          | 0.05       | 0.43          | 0.04      \n",
      "1.8        | 17         | 0.0        | 0.0           | 0.0       \n",
      "0.2        | 1          | 0.14       | 0.6           | 0.11      \n",
      "2.5        | 14         | 0.0        | 0.0           | 0.0       \n",
      "0.3        | 1          | 0.1        | 0.65          | 0.08      \n",
      "1.5        | 10         | 0.0        | 0.01          | 0.0       \n",
      "1.4        | 11         | 0.0        | 0.01          | 0.0       \n",
      "1.3        | 9          | 0.02       | 0.04          | 0.02      \n",
      "1.4        | 15         | 0.0        | 0.0           | 0.0       \n",
      "1.5        | 10         | 0.02       | 0.03          | 0.02      \n",
      "1.2        | 9          | 0.01       | 0.02          | 0.01      \n",
      "1.5        | 9          | 0.01       | 0.01          | 0.01      \n",
      "1.4        | 9          | 0.01       | 0.02          | 0.01      \n",
      "0.1        | 1          | 0.13       | 0.57          | 0.1       \n",
      "1.5        | 9          | 0.01       | 0.02          | 0.01      \n",
      "1.2        | 9          | 0.01       | 0.02          | 0.01      \n",
      "0.3        | 1          | 0.13       | 0.57          | 0.1       \n",
      "0.4        | 1          | 0.08       | 0.55          | 0.06      \n",
      "2.0        | 14         | 0.01       | 0.01          | 0.01      \n",
      "1.5        | 9          | 0.03       | 0.05          | 0.03      \n",
      "0.2        | 1          | 0.15       | 0.56          | 0.11      \n",
      "0.2        | 1          | 0.18       | 0.54          | 0.13      \n",
      "1.8        | 14         | 0.0        | 0.0           | 0.0       \n",
      "0.2        | 1          | 0.12       | 0.69          | 0.09      \n",
      "0.4        | 1          | 0.09       | 0.53          | 0.07      \n",
      "1.3        | 9          | 0.01       | 0.02          | 0.01      \n",
      "1.0        | 6          | 0.02       | 0.04          | 0.02      \n",
      "0.4        | 1          | 0.13       | 0.59          | 0.1       \n",
      "1.8        | 19         | 0.0        | 0.0           | 0.0       \n",
      "1.5        | 9          | 0.03       | 0.05          | 0.03      \n",
      "0.2        | 1          | 0.11       | 0.6           | 0.09      \n",
      "1.8        | 14         | 0.0        | 0.01          | 0.0       \n",
      "2.2        | 14         | 0.0        | 0.0           | 0.0       \n",
      "1.4        | 9          | 0.05       | 0.07          | 0.04      \n",
      "0.3        | 1          | 0.07       | 0.47          | 0.06      \n",
      "1.6        | 9          | 0.01       | 0.01          | 0.01      \n",
      "-----------------------------------------------------------------\n",
      "\n"
     ]
    }
   ],
   "source": [
    "# Predicting the Test set results\n",
    "y_pred = classifier.predict(X_test)\n",
    "# Predict probabilities\n",
    "probs_y=classifier.predict_proba(X_test)\n",
    "### Print results \n",
    "probs_y = np.round(probs_y, 2)\n",
    "res = \"{:<10} | {:<10} | {:<10} | {:<13} | {:<5}\".format(\"y_test\", \"y_pred\", \"Setosa(%)\", \"versicolor(%)\", \"virginica(%)\\n\")\n",
    "res += \"-\"*65+\"\\n\"\n",
    "res += \"\\n\".join(\"{:<10} | {:<10} | {:<10} | {:<13} | {:<10}\".format(x, y, a, b, c) for x, y, a, b, c in zip(y_test, y_pred, probs_y[:,0], probs_y[:,1], probs_y[:,2]))\n",
    "res += \"\\n\"+\"-\"*65+\"\\n\"\n",
    "print(res)"
   ]
  },
  {
   "cell_type": "markdown",
   "id": "ff9c3eea",
   "metadata": {},
   "source": [
    "# Again "
   ]
  },
  {
   "cell_type": "markdown",
   "id": "40cf5e62",
   "metadata": {},
   "source": [
    "# Logistic regression on IRIS data"
   ]
  },
  {
   "cell_type": "code",
   "execution_count": 88,
   "id": "fa507a39",
   "metadata": {},
   "outputs": [],
   "source": [
    "import numpy as np\n",
    "import matplotlib.pyplot as plt\n",
    "import pandas as pd"
   ]
  },
  {
   "cell_type": "code",
   "execution_count": 96,
   "id": "5ee18039",
   "metadata": {},
   "outputs": [],
   "source": [
    "dataset = pd.read_csv(\"Iris.csv\")"
   ]
  },
  {
   "cell_type": "code",
   "execution_count": 97,
   "id": "e7dd4821",
   "metadata": {},
   "outputs": [
    {
     "data": {
      "text/html": [
       "<div>\n",
       "<style scoped>\n",
       "    .dataframe tbody tr th:only-of-type {\n",
       "        vertical-align: middle;\n",
       "    }\n",
       "\n",
       "    .dataframe tbody tr th {\n",
       "        vertical-align: top;\n",
       "    }\n",
       "\n",
       "    .dataframe thead th {\n",
       "        text-align: right;\n",
       "    }\n",
       "</style>\n",
       "<table border=\"1\" class=\"dataframe\">\n",
       "  <thead>\n",
       "    <tr style=\"text-align: right;\">\n",
       "      <th></th>\n",
       "      <th>SepalLengthCm</th>\n",
       "      <th>SepalWidthCm</th>\n",
       "      <th>PetalLengthCm</th>\n",
       "      <th>PetalWidthCm</th>\n",
       "    </tr>\n",
       "  </thead>\n",
       "  <tbody>\n",
       "    <tr>\n",
       "      <th>count</th>\n",
       "      <td>150.000000</td>\n",
       "      <td>150.000000</td>\n",
       "      <td>150.000000</td>\n",
       "      <td>150.000000</td>\n",
       "    </tr>\n",
       "    <tr>\n",
       "      <th>mean</th>\n",
       "      <td>5.843333</td>\n",
       "      <td>3.054000</td>\n",
       "      <td>3.758667</td>\n",
       "      <td>1.198667</td>\n",
       "    </tr>\n",
       "    <tr>\n",
       "      <th>std</th>\n",
       "      <td>0.828066</td>\n",
       "      <td>0.433594</td>\n",
       "      <td>1.764420</td>\n",
       "      <td>0.763161</td>\n",
       "    </tr>\n",
       "    <tr>\n",
       "      <th>min</th>\n",
       "      <td>4.300000</td>\n",
       "      <td>2.000000</td>\n",
       "      <td>1.000000</td>\n",
       "      <td>0.100000</td>\n",
       "    </tr>\n",
       "    <tr>\n",
       "      <th>25%</th>\n",
       "      <td>5.100000</td>\n",
       "      <td>2.800000</td>\n",
       "      <td>1.600000</td>\n",
       "      <td>0.300000</td>\n",
       "    </tr>\n",
       "    <tr>\n",
       "      <th>50%</th>\n",
       "      <td>5.800000</td>\n",
       "      <td>3.000000</td>\n",
       "      <td>4.350000</td>\n",
       "      <td>1.300000</td>\n",
       "    </tr>\n",
       "    <tr>\n",
       "      <th>75%</th>\n",
       "      <td>6.400000</td>\n",
       "      <td>3.300000</td>\n",
       "      <td>5.100000</td>\n",
       "      <td>1.800000</td>\n",
       "    </tr>\n",
       "    <tr>\n",
       "      <th>max</th>\n",
       "      <td>7.900000</td>\n",
       "      <td>4.400000</td>\n",
       "      <td>6.900000</td>\n",
       "      <td>2.500000</td>\n",
       "    </tr>\n",
       "  </tbody>\n",
       "</table>\n",
       "</div>"
      ],
      "text/plain": [
       "       SepalLengthCm  SepalWidthCm  PetalLengthCm  PetalWidthCm\n",
       "count     150.000000    150.000000     150.000000    150.000000\n",
       "mean        5.843333      3.054000       3.758667      1.198667\n",
       "std         0.828066      0.433594       1.764420      0.763161\n",
       "min         4.300000      2.000000       1.000000      0.100000\n",
       "25%         5.100000      2.800000       1.600000      0.300000\n",
       "50%         5.800000      3.000000       4.350000      1.300000\n",
       "75%         6.400000      3.300000       5.100000      1.800000\n",
       "max         7.900000      4.400000       6.900000      2.500000"
      ]
     },
     "execution_count": 97,
     "metadata": {},
     "output_type": "execute_result"
    }
   ],
   "source": [
    "dataset.describe()"
   ]
  },
  {
   "cell_type": "code",
   "execution_count": 98,
   "id": "64ed1086",
   "metadata": {},
   "outputs": [
    {
     "name": "stdout",
     "output_type": "stream",
     "text": [
      "<class 'pandas.core.frame.DataFrame'>\n",
      "RangeIndex: 150 entries, 0 to 149\n",
      "Data columns (total 5 columns):\n",
      " #   Column         Non-Null Count  Dtype  \n",
      "---  ------         --------------  -----  \n",
      " 0   SepalLengthCm  150 non-null    float64\n",
      " 1   SepalWidthCm   150 non-null    float64\n",
      " 2   PetalLengthCm  150 non-null    float64\n",
      " 3   PetalWidthCm   150 non-null    float64\n",
      " 4   Species        150 non-null    object \n",
      "dtypes: float64(4), object(1)\n",
      "memory usage: 6.0+ KB\n"
     ]
    }
   ],
   "source": [
    "dataset.info()"
   ]
  },
  {
   "cell_type": "code",
   "execution_count": 99,
   "id": "cf481a0f",
   "metadata": {},
   "outputs": [],
   "source": [
    "# Splitting the dataset into the Training set and Test set\n",
    "X = dataset.iloc[:, [0,1,2, 3]].values\n",
    "y = dataset.iloc[:, 4].values\n",
    "\n",
    "from sklearn.model_selection import train_test_split\n",
    "X_train, X_test, y_train, y_test = train_test_split(X, y, test_size = 0.25, random_state = 0)"
   ]
  },
  {
   "cell_type": "code",
   "execution_count": 100,
   "id": "dfa7769d",
   "metadata": {},
   "outputs": [],
   "source": [
    "# Feature Scaling\n",
    "from sklearn.preprocessing import StandardScaler\n",
    "sc = StandardScaler()\n",
    "X_train = sc.fit_transform(X_train)\n",
    "X_test = sc.transform(X_test)"
   ]
  },
  {
   "cell_type": "code",
   "execution_count": 101,
   "id": "c07281a1",
   "metadata": {},
   "outputs": [
    {
     "data": {
      "text/plain": [
       "LogisticRegression(random_state=0)"
      ]
     },
     "execution_count": 101,
     "metadata": {},
     "output_type": "execute_result"
    }
   ],
   "source": [
    "# Fitting Logistic Regression to the Training set\n",
    "from sklearn.linear_model import LogisticRegression\n",
    "classifier = LogisticRegression(random_state = 0, solver='lbfgs', multi_class='auto')\n",
    "classifier.fit(X_train, y_train)"
   ]
  },
  {
   "cell_type": "code",
   "execution_count": 102,
   "id": "d565bec9",
   "metadata": {},
   "outputs": [],
   "source": [
    "# Predicting the Test set results\n",
    "y_pred = classifier.predict(X_test)"
   ]
  },
  {
   "cell_type": "code",
   "execution_count": 103,
   "id": "dd1ecf9b",
   "metadata": {},
   "outputs": [],
   "source": [
    "# Predict probabilities\n",
    "probs_y=classifier.predict_proba(X_test)"
   ]
  },
  {
   "cell_type": "code",
   "execution_count": 104,
   "id": "8207b6ef",
   "metadata": {},
   "outputs": [
    {
     "name": "stdout",
     "output_type": "stream",
     "text": [
      "y_test     | y_pred     | Setosa(%)  | versicolor(%) | virginica(%)\n",
      "-----------------------------------------------------------------\n",
      "virginica  | virginica  | 0.0        | 0.03          | 0.97      \n",
      "versicolor | versicolor | 0.01       | 0.95          | 0.04      \n",
      "setosa     | setosa     | 1.0        | 0.0           | 0.0       \n",
      "virginica  | virginica  | 0.0        | 0.08          | 0.92      \n",
      "setosa     | setosa     | 0.98       | 0.02          | 0.0       \n",
      "virginica  | virginica  | 0.0        | 0.01          | 0.99      \n",
      "setosa     | setosa     | 0.98       | 0.02          | 0.0       \n",
      "versicolor | versicolor | 0.01       | 0.71          | 0.28      \n",
      "versicolor | versicolor | 0.0        | 0.73          | 0.27      \n",
      "versicolor | versicolor | 0.02       | 0.89          | 0.08      \n",
      "virginica  | virginica  | 0.0        | 0.44          | 0.56      \n",
      "versicolor | versicolor | 0.02       | 0.76          | 0.22      \n",
      "versicolor | versicolor | 0.01       | 0.85          | 0.13      \n",
      "versicolor | versicolor | 0.0        | 0.69          | 0.3       \n",
      "versicolor | versicolor | 0.01       | 0.75          | 0.24      \n",
      "setosa     | setosa     | 0.95       | 0.05          | 0.0       \n",
      "versicolor | versicolor | 0.02       | 0.72          | 0.26      \n",
      "versicolor | versicolor | 0.03       | 0.86          | 0.11      \n",
      "setosa     | setosa     | 0.94       | 0.06          | 0.0       \n",
      "setosa     | setosa     | 0.99       | 0.01          | 0.0       \n",
      "virginica  | virginica  | 0.0        | 0.17          | 0.83      \n",
      "versicolor | versicolor | 0.04       | 0.71          | 0.25      \n",
      "setosa     | setosa     | 0.98       | 0.02          | 0.0       \n",
      "setosa     | setosa     | 0.96       | 0.04          | 0.0       \n",
      "virginica  | virginica  | 0.0        | 0.35          | 0.65      \n",
      "setosa     | setosa     | 1.0        | 0.0           | 0.0       \n",
      "setosa     | setosa     | 0.99       | 0.01          | 0.0       \n",
      "versicolor | versicolor | 0.02       | 0.87          | 0.11      \n",
      "versicolor | versicolor | 0.09       | 0.9           | 0.02      \n",
      "setosa     | setosa     | 0.97       | 0.03          | 0.0       \n",
      "virginica  | virginica  | 0.0        | 0.21          | 0.79      \n",
      "versicolor | versicolor | 0.06       | 0.69          | 0.25      \n",
      "setosa     | setosa     | 0.98       | 0.02          | 0.0       \n",
      "virginica  | virginica  | 0.0        | 0.35          | 0.65      \n",
      "virginica  | virginica  | 0.0        | 0.04          | 0.96      \n",
      "versicolor | versicolor | 0.07       | 0.81          | 0.11      \n",
      "setosa     | setosa     | 0.97       | 0.03          | 0.0       \n",
      "versicolor | virginica  | 0.0        | 0.42          | 0.58      \n",
      "-----------------------------------------------------------------\n",
      "\n"
     ]
    }
   ],
   "source": [
    "probs_y = np.round(probs_y, 2)\n",
    "res = \"{:<10} | {:<10} | {:<10} | {:<13} | {:<5}\".format(\"y_test\", \"y_pred\", \"Setosa(%)\", \"versicolor(%)\", \"virginica(%)\\n\")\n",
    "res += \"-\"*65+\"\\n\"\n",
    "res += \"\\n\".join(\"{:<10} | {:<10} | {:<10} | {:<13} | {:<10}\".format(x, y, a, b, c) for x, y, a, b, c in zip(y_test, y_pred, probs_y[:,0], probs_y[:,1], probs_y[:,2]))\n",
    "res += \"\\n\"+\"-\"*65+\"\\n\"\n",
    "print(res)"
   ]
  },
  {
   "cell_type": "code",
   "execution_count": 105,
   "id": "26edbbdc",
   "metadata": {},
   "outputs": [
    {
     "name": "stdout",
     "output_type": "stream",
     "text": [
      "[[13  0  0]\n",
      " [ 0 15  1]\n",
      " [ 0  0  9]]\n"
     ]
    }
   ],
   "source": [
    "# Making the Confusion Matrix\n",
    "from sklearn.metrics import confusion_matrix\n",
    "cm = confusion_matrix(y_test, y_pred)\n",
    "print(cm)"
   ]
  },
  {
   "cell_type": "code",
   "execution_count": 106,
   "id": "c5ea8823",
   "metadata": {},
   "outputs": [
    {
     "data": {
      "image/png": "[encoded data removed]",
      "text/plain": [
       "<Figure size 1400x600 with 2 Axes>"
      ]
     },
     "metadata": {},
     "output_type": "display_data"
    }
   ],
   "source": [
    "# Plot confusion matrix\n",
    "import seaborn as sns\n",
    "import pandas as pd\n",
    "# confusion matrix sns heatmap \n",
    "## https://www.kaggle.com/agungor2/various-confusion-matrix-plots\n",
    "ax = plt.axes()\n",
    "df_cm = cm\n",
    "sns.heatmap(df_cm, annot=True, annot_kws={\"size\": 30}, fmt='d',cmap=\"Blues\", ax = ax )\n",
    "ax.set_title('Confusion Matrix')\n",
    "plt.show()"
   ]
  },
  {
   "cell_type": "code",
   "execution_count": null,
   "id": "92c971c0",
   "metadata": {},
   "outputs": [],
   "source": []
  }
 ],
 "metadata": {
  "kernelspec": {
   "display_name": "Python 3 (ipykernel)",
   "language": "python",
   "name": "python3"
  },
  "language_info": {
   "codemirror_mode": {
    "name": "ipython",
    "version": 3
   },
   "file_extension": ".py",
   "mimetype": "text/x-python",
   "name": "python",
   "nbconvert_exporter": "python",
   "pygments_lexer": "ipython3",
   "version": "3.9.13"
  }
 },
 "nbformat": 4,
 "nbformat_minor": 5
}
